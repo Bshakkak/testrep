{
 "cells": [
  {
   "cell_type": "code",
   "execution_count": 1,
   "id": "cbbc09f3-dbf6-4e47-99d4-ad89f9c4bb8f",
   "metadata": {},
   "outputs": [
    {
     "data": {
      "text/plain": [
       "2"
      ]
     },
     "execution_count": 1,
     "metadata": {},
     "output_type": "execute_result"
    }
   ],
   "source": [
    "1+1"
   ]
  },
  {
   "cell_type": "code",
   "execution_count": 2,
   "id": "6a77c265-783b-4d71-8c05-1b2c680c3de4",
   "metadata": {},
   "outputs": [
    {
     "data": {
      "text/plain": [
       "0"
      ]
     },
     "execution_count": 2,
     "metadata": {},
     "output_type": "execute_result"
    }
   ],
   "source": [
    "1//2"
   ]
  },
  {
   "cell_type": "code",
   "execution_count": 3,
   "id": "a4bdbb6b-4562-4536-aec3-d5f97f8b21be",
   "metadata": {},
   "outputs": [
    {
     "data": {
      "text/plain": [
       "0.5"
      ]
     },
     "execution_count": 3,
     "metadata": {},
     "output_type": "execute_result"
    }
   ],
   "source": [
    "1/2"
   ]
  },
  {
   "cell_type": "code",
   "execution_count": 4,
   "id": "5309192d-5483-479e-84fd-273901c1ece0",
   "metadata": {},
   "outputs": [
    {
     "data": {
      "text/plain": [
       "4"
      ]
     },
     "execution_count": 4,
     "metadata": {},
     "output_type": "execute_result"
    }
   ],
   "source": [
    "2**2"
   ]
  },
  {
   "cell_type": "code",
   "execution_count": null,
   "id": "20bf632f-e4a4-4d9f-ac02-a3ba7cb887ff",
   "metadata": {},
   "outputs": [],
   "source": [
    "#cell inserted above"
   ]
  },
  {
   "cell_type": "code",
   "execution_count": null,
   "id": "df4376a9-3bb4-46cd-acd2-63be45e38256",
   "metadata": {},
   "outputs": [],
   "source": [
    "##cell"
   ]
  },
  {
   "cell_type": "code",
   "execution_count": 7,
   "id": "b59752b4-bf88-44c9-bf36-18d03c4c4b5f",
   "metadata": {},
   "outputs": [],
   "source": [
    "#cell inserted below"
   ]
  },
  {
   "cell_type": "markdown",
   "id": "2c95741b-a408-4980-b695-0c902e337c27",
   "metadata": {},
   "source": [
    "## My Title\n",
    "First Lab on Jupyter Lab"
   ]
  },
  {
   "cell_type": "code",
   "execution_count": null,
   "id": "f87a28d3-b298-4545-8e9b-ef3f03c6e933",
   "metadata": {},
   "outputs": [],
   "source": []
  }
 ],
 "metadata": {
  "kernelspec": {
   "display_name": "Python 3 (ipykernel)",
   "language": "python",
   "name": "python3"
  },
  "language_info": {
   "codemirror_mode": {
    "name": "ipython",
    "version": 3
   },
   "file_extension": ".py",
   "mimetype": "text/x-python",
   "name": "python",
   "nbconvert_exporter": "python",
   "pygments_lexer": "ipython3",
   "version": "3.9.13"
  }
 },
 "nbformat": 4,
 "nbformat_minor": 5
}
